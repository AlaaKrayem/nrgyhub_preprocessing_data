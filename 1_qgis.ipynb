{
 "cells": [
  {
   "cell_type": "code",
   "execution_count": null,
   "metadata": {
    "kernel": "Python3"
   },
   "outputs": [],
   "source": [
    "import os\n",
    "# Run always\n",
    "city = 'Vasteras'\n",
    "\n",
    "input_dsm = r'C:\\Users\\akm03\\Alaa\\NERGYHUB\\data\\lantmateriet\\{}\\DSM\\Laserdata_NH_2019'.format(city)\n",
    "output_dsm = r'C:\\Users\\akm03\\Alaa\\NERGYHUB\\data\\lantmateriet\\{}\\DSM'.format(city)\n",
    "city_dsm = os.path.join(output_dsm,'{}_dsm.tif'.format(city))\n",
    "\n",
    "input_dtm = r'C:\\Users\\akm03\\Alaa\\NERGYHUB\\data\\lantmateriet\\{}\\DTM'.format(city)\n",
    "city_dtm = os.path.join(input_dtm,'{}_dtm.tif'.format(city))\n",
    "\n",
    "processed_path = 'C:/Users/akm03/Alaa/NERGYHUB/data/lantmateriet/{0}/processed_data'.format(city)\n",
    "buildings = os.path.join(processed_path,'buildings_filtered.shp')"
   ]
  },
  {
   "cell_type": "code",
   "execution_count": null,
   "metadata": {
    "kernel": "R"
   },
   "outputs": [],
   "source": [
    "%get input_dsm output_dsm input_dtm processed_path --from Python3"
   ]
  },
  {
   "cell_type": "markdown",
   "metadata": {
    "kernel": "SoS"
   },
   "source": [
    "### This code should be run in Python script editor in QGIS to convert laser data to raster, merge resulted tifs. add DSM and DTM values"
   ]
  },
  {
   "cell_type": "markdown",
   "metadata": {
    "kernel": "SoS"
   },
   "source": [
    "#### For any help on qgis python algorithms, processing.algorithmHelp('gdal:rastercalculator')"
   ]
  },
  {
   "cell_type": "code",
   "execution_count": null,
   "metadata": {
    "kernel": "SoS"
   },
   "outputs": [],
   "source": [
    "import os, processing, tempfile\n",
    "# Change the city name or add a loop\n",
    "input_wildcards = '*.laz'\n",
    "step = 0.5\n",
    "attribute = 0  # elevation\n",
    "product = 0 # actual values\n",
    "method = 3 # 1 highest; 0 lowest; 3 average; 4 stdev\n",
    "filters = 2 # keep_first\n",
    "\n",
    "output_raster_format = 0 # tif\n",
    "cores = 4\n",
    "\n",
    "las_params = {'INPUT_DIRECTORY': input_dsm, \n",
    "          'STEP': step, \n",
    "          'INPUT_WILDCARDS': input_wildcards, \n",
    "          'ATTRIBUTE': attribute, \n",
    "          'FILTER_RETURN_CLASS_FLAGS1': filters,\n",
    "          'PRODUCT': product,\n",
    "          'OUTPUT_DIRECTORY': output_dsm,\n",
    "          'OUTPUT_RASTER_FORMAT': output_raster_format,\n",
    "          'CORES': cores}\n",
    "\n",
    "#processing.run(\"LAStools:las2demPro\", las_params)\n",
    "\n",
    "las_params = {'INPUT_DIRECTORY': input_dsm, \n",
    "          'STEP': step, \n",
    "          'INPUT_WILDCARDS': input_wildcards, \n",
    "          'ATTRIBUTE': attribute, \n",
    "          'METHOD': method,\n",
    "          'OUTPUT_DIRECTORY': output_dsm,\n",
    "          'OUTPUT_RASTER_FORMAT': output_raster_format,\n",
    "          'CORES': cores}\n",
    "\n",
    "processing.run(\"LAStools:lasgridPro\", las_params)\n",
    "\n",
    "\n",
    "## merge resulted rasters (it takes time 1410.86 seconds) \n",
    "rasters = [os.path.join(output_dsm,raster) for raster in os.listdir(output_dsm) if '.tif' in raster]\n",
    "data_type = 5 # float 32 default\n",
    "merge_params = {'INPUT': rasters,\n",
    "                'DATA_TYPE': data_type,\n",
    "                'OUTPUT': city_dsm}\n",
    "processing.run(\"gdal:merge\", merge_params)\n",
    "\n",
    "## merge DTM rasters\n",
    "rasters = [os.path.join(input_dtm,raster) for raster in os.listdir(input_dtm) if raster.endswith('.tif')]\n",
    "data_type = 5 # float 32 default\n",
    "merge_params = {'INPUT': rasters,\n",
    "                'DATA_TYPE': data_type,\n",
    "                'OUTPUT': city_dtm}\n",
    "processing.run(\"gdal:merge\", merge_params)\n",
    "\n",
    "# clean buildings shapefile by removing polygons falling outside of the extent of the dtm\n",
    "\n",
    "\n",
    "# ## get raster extents as temporary shapefile\n",
    "#tf = tempfile.TemporaryDirectory()\n",
    "dtm_extent = os.path.join(processed_path, '{}_dtm_extent.shp'.format(city))\n",
    "round_to = 0\n",
    "extent_params = {'INPUT': city_dtm,\n",
    "                'OUTPUT': dtm_extent,\n",
    "                'ROUND_TO': round_to}\n",
    "processing.run(\"native:polygonfromlayerextent\", extent_params)\n",
    "\n",
    "\n",
    "# ## select only polygons within raster extent\n",
    "raw_buildings = 'C:/Users/akm03/Alaa/NERGYHUB/data/lantmateriet/Vasteras/Fastighetskartan/by_19.shp'\n",
    "predicate = 6 # are within\n",
    "method = 0\n",
    "select_params = {'INPUT': raw_buildings,                 \n",
    "                 'PREDICATE': predicate,\n",
    "                 'INTERSECT': dtm_extent,\n",
    "                 'METHOD': method}\n",
    "\n",
    "processing.run(\"qgis:selectbylocation\", select_params)\n",
    "\n",
    "\n",
    "## Save selected features\n",
    "save_params = {'INPUT':raw_buildings,\n",
    "              'OUTPUT':buildings}\n",
    "processing.run('qgis:saveselectedfeatures', save_params)\n",
    "\n",
    "              \n",
    "### add raster values to polygons\n",
    "prefix = 'DSM_'\n",
    "stats = [2, 3, 6] # mean and max\n",
    "dsm_params = {'INPUT_RASTER': city_dsm, \n",
    "          'RASTER_BAND': 1, \n",
    "          'INPUT_VECTOR': buildings, \n",
    "          'COLUMN_PREFIX': prefix, \n",
    "          'STATISTICS': stats,\n",
    "          'OUTPUT': buildings}\n",
    "processing.run(\"qgis:zonalstatistics\", dsm_params)  \n",
    "\n",
    "### add raster values to polygons\n",
    "prefix = 'DTM_'\n",
    "stats = [2, 3, 6] # mean and max\n",
    "dtm_params = {'INPUT_RASTER': city_dtm, \n",
    "          'RASTER_BAND': 1, \n",
    "          'INPUT_VECTOR': buildings, \n",
    "          'COLUMN_PREFIX': prefix, \n",
    "          'STATISTICS': stats,\n",
    "          'OUTPUT': buildings}\n",
    "processing.run(\"qgis:zonalstatistics\", dtm_params)  \n"
   ]
  },
  {
   "cell_type": "markdown",
   "metadata": {
    "kernel": "SoS"
   },
   "source": [
    "### This script is to check for geometrical duplicates"
   ]
  },
  {
   "cell_type": "code",
   "execution_count": null,
   "metadata": {
    "kernel": "SoS"
   },
   "outputs": [],
   "source": [
    "import mmqgis\n",
    "from mmqgis import mmqgis_library\n",
    "\n",
    "layer_file = os.path.join(processed_path,'buildings_filtered.shp')\n",
    "input_layer = QgsVectorLayer(layer_file)\n",
    "\n",
    "# non duplicated features will be saved while duplicated will be deleted. the file can be geojson\n",
    "output_file_name = os.path.join(processed_path,\"no-duplicates.shp\") \n",
    "message = mmqgis_library.mmqgis_delete_duplicate_geometries(input_layer, output_file_name)\n",
    "print(\"Delete duplicate geometries: \" + str(message))\n",
    "\n",
    "# if message != None:    "
   ]
  },
  {
   "cell_type": "markdown",
   "metadata": {
    "kernel": "SoS"
   },
   "source": [
    "### The following scripts are to get the height at the buildings perimeters"
   ]
  },
  {
   "cell_type": "code",
   "execution_count": null,
   "metadata": {
    "kernel": "SoS"
   },
   "outputs": [],
   "source": [
    "import os, processing, tempfile\n",
    "### Run the following code in qgis console to get the buildings buffers at the perimeters\n",
    "distance = -0.1\n",
    "buffered = os.path.join(processed_path,'buffered.shp')\n",
    "buffer_params = {'INPUT': buildings,\n",
    "                'DISTANCE': distance,\n",
    "                'OUTPUT': buffered}\n",
    "buffered_layer = processing.run(\"native:buffer\", buffer_params) \n",
    "\n",
    "distance = -0.5\n",
    "tf = tempfile.TemporaryDirectory()\n",
    "buffered2 = tf.name + \"\\\\buffered2.shp\"\n",
    "buffer_params = {'INPUT': buffered,\n",
    "                'DISTANCE': distance,\n",
    "                'OUTPUT': buffered2}\n",
    "buffered_layer = processing.run(\"native:buffer\", buffer_params) \n",
    "\n",
    "\n",
    "# calculate the difference\n",
    "buildings_perimeters = os.path.join(processed_path, 'buildings_perimeters.shp')\n",
    "difference_params = {'INPUT': buffered,\n",
    "                    'OVERLAY': buffered2,\n",
    "                    'OUTPUT': buildings_perimeters}\n",
    "processing.run(\"native:difference\", difference_params) \n"
   ]
  },
  {
   "cell_type": "markdown",
   "metadata": {
    "kernel": "SoS"
   },
   "source": [
    "### The following code to run here "
   ]
  },
  {
   "cell_type": "code",
   "execution_count": null,
   "metadata": {
    "kernel": "R",
    "scrolled": true
   },
   "outputs": [],
   "source": [
    "library(raster)\n",
    "library(rgdal)\n",
    "library(qdapTools)\n",
    "library(dplyr)\n",
    "library(tmaptools)\n",
    "library(stringr)\n",
    "library(data.table)\n",
    "library(sqldf)\n",
    "library(DBI)\n",
    "\n",
    "city <- 'Vasteras'\n",
    "output_dsm <- sprintf('C:/Users/akm03/Alaa/NERGYHUB/data/lantmateriet/%s/DSM/las2dempro',city)\n",
    "processed_path <- sprintf('C:/Users/akm03/Alaa/NERGYHUB/data/lantmateriet/%s/processed_data',city)\n",
    "city_dsm <- file.path(output_dsm,sprintf('%s_dsm.tif',city))\n",
    "buildings_perimeters <- file.path(processed_path, 'buildings_perimeters.shp')\n",
    "#buildings_perimeters <- file.path(processed_path, 'buildings.shp')\n",
    "\n",
    "raster <- stack(city_dsm)\n",
    "poly <- readOGR(buildings_perimeters)"
   ]
  },
  {
   "cell_type": "markdown",
   "metadata": {
    "kernel": "R"
   },
   "source": [
    "### Raster_values csv will be huge. Add to database"
   ]
  },
  {
   "cell_type": "code",
   "execution_count": null,
   "metadata": {
    "kernel": "R"
   },
   "outputs": [],
   "source": [
    "db <- 'rasterDB'  #provide the name of your db\n",
    "host_db <- 'localhost' #i.e. # i.e. 'ec2-54-83-201-96.compute-1.amazonaws.com'  \n",
    "db_port <- '5432'  # or any other port specified by the DBA\n",
    "db_user <- 'postgres'  \n",
    "db_password <- '3n3rgY_8ub'\n",
    "con <- dbConnect(RPostgres::Postgres(), dbname = db, host=host_db, port=db_port, user=db_user, password=db_password)"
   ]
  },
  {
   "cell_type": "code",
   "execution_count": null,
   "metadata": {
    "kernel": "R",
    "scrolled": true
   },
   "outputs": [],
   "source": [
    "valList <- list()\n",
    "height <- list()\n",
    "j = 1\n",
    "\n",
    "sub_length <- 500\n",
    "\n",
    "for(i in 1:length(poly)){\n",
    "    #print(i)\n",
    "    flush.console()\n",
    "    building <- poly[i,]\n",
    "    values <- extract(raster,building)\n",
    "    df_values <- data.frame(ID=building$OBJEKT_ID,Value = values[[1]][,1])\n",
    "    #df_values <- data.frame(ID=building$BuildingID,Value = values[[1]][,1])\n",
    "    \n",
    "    valList[[j]] <- df_values\n",
    "    j <- j + 1\n",
    "\n",
    "    subframe <- df_values[df_values$Value >= 2.2,]\n",
    "    #subframe <- subframe[order(df_values$Value),]\n",
    "    #subframe$Number <- 1:nrow(subframe)\n",
    "    #subframe$Percentage <- subframe$Number/max(subframe$Number, na.rm = TRUE)\n",
    "    #subframe <- subframe[subframe$Percentage<0.25,]\n",
    "    #subframe <- subframe[, !names(subframe)%in% c('Number')]\n",
    "    #rownames(subframe) <- 1:nrow(subframe)\n",
    "    height[[i]] <- data.frame(ID=building$OBJEKT_ID, Value = median(subframe$Value, na.rm = TRUE))\n",
    "    \n",
    "    if (length(valList) == sub_length) {\n",
    "        dbWriteTable(con, sprintf('raster_values_at_deeper_perimeters_%s',i), do.call(rbind.data.frame,valList),overwrite = T)\n",
    "        #dbWriteTable(con, sprintf('raster_values_%s',i), do.call(rbind.data.frame,valList),overwrite = T)\n",
    "        #fwrite(do.call(rbind.data.frame,valList),file.path(output_dsm,'at_buildings', sprintf(\"dsm_values_%s.csv\", i)))\n",
    "        \n",
    "        valList <- list()\n",
    "        j <- 1\n",
    "    }\n",
    "}\n",
    "\n",
    "if (length(poly) %% sub_length != 0) {\n",
    "    dbWriteTable(con, sprintf('raster_values_at_deeper_perimeters_%s',i), do.call(rbind.data.frame,valList),overwrite = T)\n",
    "    #dbWriteTable(con, sprintf('raster_values_at_perimeters_%s',i), do.call(rbind.data.frame,valList),overwrite = T)\n",
    "    #fwrite(do.call(rbind.data.frame,valList),file.path(output_dsm,'at_buildings', sprintf(\"dsm_values_%s.csv\", i)))\n",
    "}\n",
    "\n",
    "fwrite(do.call(rbind.data.frame,height),file.path(output_dsm,'at_deeper_perimeters', \"dsm_values_at_perimeters_3.csv\"))"
   ]
  },
  {
   "cell_type": "code",
   "execution_count": null,
   "metadata": {
    "kernel": "R"
   },
   "outputs": [],
   "source": []
  }
 ],
 "metadata": {
  "kernelspec": {
   "display_name": "Python 3 (ipykernel)",
   "language": "python",
   "name": "python3"
  },
  "language_info": {
   "codemirror_mode": {
    "name": "ipython",
    "version": 3
   },
   "file_extension": ".py",
   "mimetype": "text/x-python",
   "name": "python",
   "nbconvert_exporter": "python",
   "pygments_lexer": "ipython3",
   "version": "3.11.4"
  },
  "sos": {
   "kernels": [
    [
     "Python3",
     "python3",
     "Python3",
     "#FFD91A",
     {
      "name": "ipython",
      "version": 3
     }
    ],
    [
     "R",
     "ir",
     "R",
     "#DCDCDA",
     "r"
    ],
    [
     "SoS",
     "sos",
     "",
     "",
     "sos"
    ]
   ],
   "panel": {
    "displayed": false,
    "height": 0
   },
   "version": "0.22.3"
  }
 },
 "nbformat": 4,
 "nbformat_minor": 4
}
